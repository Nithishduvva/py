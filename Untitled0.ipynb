{
  "nbformat": 4,
  "nbformat_minor": 0,
  "metadata": {
    "colab": {
      "provenance": [],
      "authorship_tag": "ABX9TyOUj/b9Kpn2eYkf6e7ceGvP",
      "include_colab_link": true
    },
    "kernelspec": {
      "name": "python3",
      "display_name": "Python 3"
    },
    "language_info": {
      "name": "python"
    }
  },
  "cells": [
    {
      "cell_type": "markdown",
      "metadata": {
        "id": "view-in-github",
        "colab_type": "text"
      },
      "source": [
        "<a href=\"https://colab.research.google.com/github/Nithishduvva/py/blob/main/Untitled0.ipynb\" target=\"_parent\"><img src=\"https://colab.research.google.com/assets/colab-badge.svg\" alt=\"Open In Colab\"/></a>"
      ]
    },
    {
      "cell_type": "code",
      "source": [
        "import tensorflow as tf\n",
        "\n",
        "def caesar_cipher_tf(text, shift):\n",
        "    \"\"\"\n",
        "        Encrypts a given text using a simple Caesar cipher, utilizing TensorFlow operations.\n",
        "            \"\"\"\n",
        "                alphabet = tf.constant(list('abcdefghijklmnopqrstuvwxyz'))\n",
        "                    text_tensor = tf.constant(list(text))\n",
        "                        shift_tensor = tf.constant(shift, dtype=tf.int64)\n",
        "\n",
        "                            def shift_char(char):\n",
        "                                    if tf.strings.regex_full_match(char, r\"[A-Za-z]\"):\n",
        "                                                is_upper = tf.strings.regex_full_match(char, r\"[A-Z]\")\n",
        "                                                            lower_char = tf.strings.lower(char)\n",
        "                                                                        char_index = tf.argmax(tf.equal(alphabet, lower_char))\n",
        "                                                                                    new_index = (char_index + shift_tensor) % len(alphabet)\n",
        "                                                                                                new_char = alphabet[new_index]\n",
        "                                                                                                            return tf.strings.upper(new_char) if is_upper else new_char\n",
        "                                                                                                                    else:\n",
        "                                                                                                                                return char\n",
        "\n",
        "                                                                                                                                    encrypted_text = tf.map_fn(shift_char, text_tensor, fn_output_signature=tf.string)\n",
        "                                                                                                                                        return tf.strings.reduce_join(encrypted_text)\n",
        "\n",
        "                                                                                                                                        # Example usage\n",
        "                                                                                                                                        text = \"Harish\"\n",
        "                                                                                                                                        shift = 3\n",
        "                                                                                                                                        encrypted_text = caesar_cipher_tf(text, shift)\n",
        "                                                                                                                                        tf.print(\"Original Text:\", text)\n",
        "                                                                                                                                        tf.print(\"Encrypted Text:\", encrypted_text)"
      ],
      "metadata": {
        "colab": {
          "base_uri": "https://localhost:8080/",
          "height": 106
        },
        "id": "GLu0KbXI_b5z",
        "outputId": "f6ef280a-6941-4431-e935-7398f7b1c230"
      },
      "execution_count": 1,
      "outputs": [
        {
          "output_type": "error",
          "ename": "IndentationError",
          "evalue": "unexpected indent (<ipython-input-1-8ce58542619e>, line 7)",
          "traceback": [
            "\u001b[0;36m  File \u001b[0;32m\"<ipython-input-1-8ce58542619e>\"\u001b[0;36m, line \u001b[0;32m7\u001b[0m\n\u001b[0;31m    alphabet = tf.constant(list('abcdefghijklmnopqrstuvwxyz'))\u001b[0m\n\u001b[0m    ^\u001b[0m\n\u001b[0;31mIndentationError\u001b[0m\u001b[0;31m:\u001b[0m unexpected indent\n"
          ]
        }
      ]
    },
    {
      "source": [
        "import tensorflow as tf\n",
        "\n",
        "def caesar_cipher_tf(text, shift):\n",
        "    \"\"\"\n",
        "    Encrypts a given text using a simple Caesar cipher, utilizing TensorFlow operations.\n",
        "    \"\"\"\n",
        "    alphabet = tf.constant(list('abcdefghijklmnopqrstuvwxyz'))\n",
        "    text_tensor = tf.constant(list(text))\n",
        "    shift_tensor = tf.constant(shift, dtype=tf.int64)\n",
        "\n",
        "    def shift_char(char):\n",
        "        if tf.strings.regex_full_match(char, r\"[A-Za-z]\"):\n",
        "            is_upper = tf.strings.regex_full_match(char, r\"[A-Z]\")\n",
        "            lower_char = tf.strings.lower(char)\n",
        "            char_index = tf.argmax(tf.equal(alphabet, lower_char))\n",
        "            new_index = (char_index + shift_tensor) % len(alphabet)\n",
        "            new_char = alphabet[new_index]\n",
        "            return tf.strings.upper(new_char) if is_upper else new_char\n",
        "        else:\n",
        "            return char\n",
        "\n",
        "    encrypted_text = tf.map_fn(shift_char, text_tensor, fn_output_signature=tf.string)\n",
        "    return tf.strings.reduce_join(encrypted_text)\n",
        "\n",
        "# Example usage\n",
        "text = \"Harish\"\n",
        "shift = 3\n",
        "encrypted_text = caesar_cipher_tf(text, shift)\n",
        "tf.print(\"Original Text:\", text)\n",
        "tf.print(\"Encrypted Text:\", encrypted_text)"
      ],
      "cell_type": "code",
      "metadata": {
        "colab": {
          "base_uri": "https://localhost:8080/"
        },
        "id": "lSprZRDt_zqo",
        "outputId": "f014d1c9-083a-4a7f-cacd-9bc83115653c"
      },
      "execution_count": 2,
      "outputs": [
        {
          "output_type": "stream",
          "name": "stdout",
          "text": [
            "Original Text: Harish\n",
            "Encrypted Text: \"Kdulvk\"\n"
          ]
        }
      ]
    }
  ]
}